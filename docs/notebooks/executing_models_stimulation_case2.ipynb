{
 "cells": [
  {
   "cell_type": "markdown",
   "metadata": {},
   "source": [
    "**To run the models in cerebmodels the user must be in the root of `~/cerebmodels/`**\n",
    "\n",
    "Since this notebook is in `~/cerebmodels/docs/notebooks/` the user must move up two directories"
   ]
  },
  {
   "cell_type": "code",
   "execution_count": 1,
   "metadata": {},
   "outputs": [
    {
     "name": "stdout",
     "output_type": "stream",
     "text": [
      "/home/main-dev/cerebmodels/docs\n"
     ]
    }
   ],
   "source": [
    "cd .."
   ]
  },
  {
   "cell_type": "code",
   "execution_count": 2,
   "metadata": {},
   "outputs": [
    {
     "name": "stdout",
     "output_type": "stream",
     "text": [
      "/home/main-dev/cerebmodels\n"
     ]
    }
   ],
   "source": [
    "cd .."
   ]
  },
  {
   "cell_type": "markdown",
   "metadata": {},
   "source": [
    "# Model Execution - Case2: stimulation, raw-mode (i.e. without evoking capability)"
   ]
  },
  {
   "cell_type": "markdown",
   "metadata": {},
   "source": [
    "## 1. Set-up\n",
    "\n",
    "### Import `ExecutiveControl` of cerebmodels"
   ]
  },
  {
   "cell_type": "code",
   "execution_count": 3,
   "metadata": {},
   "outputs": [],
   "source": [
    "from executive import ExecutiveControl as ec"
   ]
  },
  {
   "cell_type": "markdown",
   "metadata": {},
   "source": [
    "## 2. Search for models and pick a desired model\n",
    "\n",
    "### 2.1. See available model scales"
   ]
  },
  {
   "cell_type": "code",
   "execution_count": 4,
   "metadata": {},
   "outputs": [
    {
     "data": {
      "text/plain": [
       "['cells', 'subcell', 'synapses', 'microcircuits', 'layers']"
      ]
     },
     "execution_count": 4,
     "metadata": {},
     "output_type": "execute_result"
    }
   ],
   "source": [
    "ec.list_modelscales()"
   ]
  },
  {
   "cell_type": "markdown",
   "metadata": {},
   "source": [
    "### 2.2. See available models for a particular scale\n",
    "Below shows the available models at the level of cellular modelling scale."
   ]
  },
  {
   "cell_type": "code",
   "execution_count": 5,
   "metadata": {},
   "outputs": [
    {
     "data": {
      "text/plain": [
       "['PC1997aHausser',\n",
       " 'PC1997bHausser',\n",
       " 'PC2010Genet',\n",
       " 'GoC2007Solinas',\n",
       " 'GrC1994Gabbiani',\n",
       " 'PC2009Akemann',\n",
       " 'PC2013Marasco',\n",
       " 'PC2006Akemann',\n",
       " 'GoC2010Botta',\n",
       " 'PC2001Miyasho',\n",
       " 'PC2003Khaliq',\n",
       " 'GoC2011Souza',\n",
       " 'GrC2016Dover',\n",
       " 'PC2018Zang',\n",
       " 'PC2015Masoli',\n",
       " 'PC2011Brown',\n",
       " 'PC2015aForrest',\n",
       " 'GrC2011Souza',\n",
       " 'PC2015bForrest',\n",
       " 'GrC2001DAngelo',\n",
       " 'DCN2011Luthman',\n",
       " 'GrC2009Diwakar']"
      ]
     },
     "execution_count": 5,
     "metadata": {},
     "output_type": "execute_result"
    }
   ],
   "source": [
    "ec.list_models( modelscale = \"cells\" )"
   ]
  },
  {
   "cell_type": "markdown",
   "metadata": {},
   "source": [
    "### 2.3. Pick a desired model\n",
    "Although it is not essential to instantiate `ExecutiveControl` to launch the model, it is recommended if one were to visualize the response."
   ]
  },
  {
   "cell_type": "code",
   "execution_count": 6,
   "metadata": {},
   "outputs": [],
   "source": [
    "exc = ec()"
   ]
  },
  {
   "cell_type": "code",
   "execution_count": 7,
   "metadata": {},
   "outputs": [],
   "source": [
    "%%capture\n",
    "desired_model = exc.choose_model( modelscale = \"cells\", modelname = \"PC2003Khaliq\")"
   ]
  },
  {
   "cell_type": "markdown",
   "metadata": {},
   "source": [
    "## 3. Launching (executing) the desired model\n",
    "### 3.1. Setting the parameters\n",
    "For our case of launching the model with stimulation and without ``CerbUnit``'s capability, one is required to define the run-time parameters and the stimulation parameters."
   ]
  },
  {
   "cell_type": "code",
   "execution_count": 8,
   "metadata": {},
   "outputs": [],
   "source": [
    "runtimeparam = { \"dt\": 0.025, \"celsius\": 37, \"tstop\": 1000, \"v_init\": -65 }"
   ]
  },
  {
   "cell_type": "markdown",
   "metadata": {},
   "source": [
    "For the case of current clamp injection,"
   ]
  },
  {
   "cell_type": "code",
   "execution_count": 9,
   "metadata": {},
   "outputs": [],
   "source": [
    "stimparam = { \"type\": [\"current\", \"IClamp\"],\n",
    "              \"stimlist\": [ {\"amp\": 0.1, \"dur\": 300.0, \"delay\": 200.0},\n",
    "                            {\"amp\": 0.1, \"dur\": 300.0, \"delay\": 500.+200.} ],\n",
    "              \"tstop\": runtimeparam[\"tstop\"] }"
   ]
  },
  {
   "cell_type": "markdown",
   "metadata": {},
   "source": [
    "In addition, another required parameter is where the user would like to stimulate. For instance if the interested site of injecting the current is the soma of the cell"
   ]
  },
  {
   "cell_type": "code",
   "execution_count": 10,
   "metadata": {},
   "outputs": [],
   "source": [
    "stim_here = desired_model.cell.soma"
   ]
  },
  {
   "cell_type": "markdown",
   "metadata": {},
   "source": [
    "**NOTE**: The name \"soma\" here is not ad-hoc but dependent on how the soma is named in the model template. See **4.1** (below). Here, soma is named as it is but it could easily have been \"Soma\", \"somas\", etc ..."
   ]
  },
  {
   "cell_type": "markdown",
   "metadata": {},
   "source": [
    "### 3.2. Executing the model"
   ]
  },
  {
   "cell_type": "code",
   "execution_count": 11,
   "metadata": {},
   "outputs": [
    {
     "name": "stdout",
     "output_type": "stream",
     "text": [
      "--- 0.22818700000000014 seconds ---\n"
     ]
    }
   ],
   "source": [
    "desired_model = exc.launch_model( parameters = runtimeparam, stimparameters = stimparam, stimloc = \"soma\",\n",
    "                                  onmodel = desired_model )"
   ]
  },
  {
   "cell_type": "markdown",
   "metadata": {},
   "source": [
    "### 3.3. Saving the response\n",
    "In ``CerebUnit`` the model response are saved in an HDF5 file based on NWB:2.0 scheme. Execution of ``save_response()`` returns the filename and its path. Below, this return full path and filename is assigned to the attribute **``fullfilename``** of the model."
   ]
  },
  {
   "cell_type": "code",
   "execution_count": 12,
   "metadata": {
    "scrolled": true
   },
   "outputs": [],
   "source": [
    "%%capture\n",
    "desired_model.fullfilename = exc.save_response()"
   ]
  },
  {
   "cell_type": "markdown",
   "metadata": {},
   "source": [
    "## 4. Visualizing the response\n",
    "### 4.1. List model regions of the chosen model\n",
    "Before one calls the visualization function the user must define the the region of interest (roi) from which the response will be visualized."
   ]
  },
  {
   "cell_type": "code",
   "execution_count": 13,
   "metadata": {},
   "outputs": [
    {
     "data": {
      "text/plain": [
       "['soma v']"
      ]
     },
     "execution_count": 13,
     "metadata": {},
     "output_type": "execute_result"
    }
   ],
   "source": [
    "exc.list_modelregions( chosenmodel = desired_model )"
   ]
  },
  {
   "cell_type": "markdown",
   "metadata": {},
   "source": [
    "### 4.2. Visualize all events\n",
    "The method ``visualize_all`` plots all the events in respective sub-plot. In our particular case with not stimulation the simulation has only one event therefore only one sub-plot is seen below."
   ]
  },
  {
   "cell_type": "code",
   "execution_count": 14,
   "metadata": {
    "scrolled": true
   },
   "outputs": [
    {
     "data": {
      "image/png": "[encoded data removed]",
      "text/plain": [
       "<Figure size 432x288 with 4 Axes>"
      ]
     },
     "metadata": {
      "needs_background": "light"
     },
     "output_type": "display_data"
    }
   ],
   "source": [
    "exc.visualize_all(chosenmodel = desired_model, roi=\"soma v\")"
   ]
  },
  {
   "cell_type": "markdown",
   "metadata": {},
   "source": [
    "### 4.3. Visualize all events in one plot"
   ]
  },
  {
   "cell_type": "code",
   "execution_count": 15,
   "metadata": {},
   "outputs": [
    {
     "data": {
      "image/png": "[encoded data removed]",
      "text/plain": [
       "<Figure size 432x288 with 2 Axes>"
      ]
     },
     "metadata": {
      "needs_background": "light"
     },
     "output_type": "display_data"
    }
   ],
   "source": [
    "exc.visualize_aio(chosenmodel = desired_model, roi=\"soma v\")"
   ]
  },
  {
   "cell_type": "code",
   "execution_count": null,
   "metadata": {},
   "outputs": [],
   "source": []
  }
 ],
 "metadata": {
  "kernelspec": {
   "display_name": "Python 3",
   "language": "python",
   "name": "python3"
  },
  "language_info": {
   "codemirror_mode": {
    "name": "ipython",
    "version": 3
   },
   "file_extension": ".py",
   "mimetype": "text/x-python",
   "name": "python",
   "nbconvert_exporter": "python",
   "pygments_lexer": "ipython3",
   "version": "3.5.2"
  }
 },
 "nbformat": 4,
 "nbformat_minor": 2
}
