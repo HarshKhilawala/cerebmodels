{
 "cells": [
  {
   "cell_type": "markdown",
   "metadata": {},
   "source": [
    "**To run the models in cerebmodels the user must be in the root of `~/cerebmodels/`**\n",
    "\n",
    "Since this notebook is in `~/cerebmodels/docs/notebooks/` the user must move up two directories"
   ]
  },
  {
   "cell_type": "code",
   "execution_count": 1,
   "metadata": {},
   "outputs": [
    {
     "name": "stdout",
     "output_type": "stream",
     "text": [
      "/home/main-dev/cerebmodels/docs\n"
     ]
    }
   ],
   "source": [
    "cd .."
   ]
  },
  {
   "cell_type": "code",
   "execution_count": 2,
   "metadata": {},
   "outputs": [
    {
     "name": "stdout",
     "output_type": "stream",
     "text": [
      "/home/main-dev/cerebmodels\n"
     ]
    }
   ],
   "source": [
    "cd .."
   ]
  },
  {
   "cell_type": "markdown",
   "metadata": {},
   "source": [
    "# Model Execution:\n",
    "# Case1- no stimulation, raw-mode (i.e. without evoking capability)"
   ]
  },
  {
   "cell_type": "markdown",
   "metadata": {},
   "source": [
    "## 1. Set-up\n",
    "\n",
    "### Import `ExecutiveControl` of cerebmodels"
   ]
  },
  {
   "cell_type": "code",
   "execution_count": 3,
   "metadata": {},
   "outputs": [],
   "source": [
    "from executive import ExecutiveControl as ec"
   ]
  },
  {
   "cell_type": "markdown",
   "metadata": {},
   "source": [
    "## 2. Search for models and pick a desired model\n",
    "\n",
    "### 2.1. See available model scales"
   ]
  },
  {
   "cell_type": "code",
   "execution_count": 5,
   "metadata": {},
   "outputs": [
    {
     "data": {
      "text/plain": [
       "['subcell', 'synapses', 'cells', 'microcircuits', 'layers']"
      ]
     },
     "execution_count": 5,
     "metadata": {},
     "output_type": "execute_result"
    }
   ],
   "source": [
    "ec.list_modelscales()"
   ]
  },
  {
   "cell_type": "markdown",
   "metadata": {},
   "source": [
    "### 2.2. See available models for a particular scale\n",
    "Below shows the available models at the level of cellular modelling scale."
   ]
  },
  {
   "cell_type": "code",
   "execution_count": 6,
   "metadata": {},
   "outputs": [
    {
     "data": {
      "text/plain": [
       "['PC2010Genet',\n",
       " 'GoC2007Solinas',\n",
       " 'GrC1994Gabbiani',\n",
       " 'PC2009Akemann',\n",
       " 'PC2013Marasco',\n",
       " 'PC2006Akemann',\n",
       " 'GoC2010Botta',\n",
       " 'PC2001Miyasho',\n",
       " 'PC2003Khaliq',\n",
       " 'GoC2011Souza',\n",
       " 'GrC2016Dover',\n",
       " 'PC2018Zang',\n",
       " 'PC1997aHausser',\n",
       " 'PC2015Masoli',\n",
       " 'PC2011Brown',\n",
       " 'PC2015aForrest',\n",
       " 'GrC2011Souza',\n",
       " 'PC2015bForrest',\n",
       " 'GrC2001DAngelo',\n",
       " 'PC1997bHausser',\n",
       " 'DCN2011Luthman',\n",
       " 'GrC2009Diwakar']"
      ]
     },
     "execution_count": 6,
     "metadata": {},
     "output_type": "execute_result"
    }
   ],
   "source": [
    "ec.list_models( modelscale = \"cells\" )"
   ]
  },
  {
   "cell_type": "markdown",
   "metadata": {},
   "source": [
    "### 2.3. Pick a desired model\n",
    "Although it is not essential to instantiate `ExecutiveControl` to launch the model, it is recommended if one were to visualize the response."
   ]
  },
  {
   "cell_type": "code",
   "execution_count": null,
   "metadata": {},
   "outputs": [],
   "source": [
    "exc = ec()"
   ]
  },
  {
   "cell_type": "code",
   "execution_count": 9,
   "metadata": {},
   "outputs": [],
   "source": [
    "%%capture\n",
    "desired_model = exc.choose_model( modelscale = \"cells\", modelname = \"PC2003Khaliq\")"
   ]
  },
  {
   "cell_type": "markdown",
   "metadata": {},
   "source": [
    "## 3. Launching (executing) the desired model\n",
    "### 3.1. Setting the parameters\n",
    "For our cases of launching the model without stimulation and without ``CerbUnit``'s capability, one is just required to define the run-time parameters."
   ]
  },
  {
   "cell_type": "code",
   "execution_count": 11,
   "metadata": {},
   "outputs": [],
   "source": [
    "runtimeparam = { \"dt\": 0.025, \"celsius\": 37, \"tstop\": 500, \"v_init\": -65 }"
   ]
  },
  {
   "cell_type": "markdown",
   "metadata": {},
   "source": [
    "### 3.2. Executing the model"
   ]
  },
  {
   "cell_type": "code",
   "execution_count": 12,
   "metadata": {},
   "outputs": [
    {
     "name": "stdout",
     "output_type": "stream",
     "text": [
      "--- 0.16233300000000028 seconds ---\n"
     ]
    }
   ],
   "source": [
    "desired_model = exc.launch_model(parameters = runtimeparam, onmodel = desired_model )"
   ]
  },
  {
   "cell_type": "markdown",
   "metadata": {},
   "source": [
    "### 3.3. Saving the response\n",
    "In ``CerebUnit`` the model response are saved in an HDF5 file based on NWB:2.0 scheme. Execution of ``save_response()`` returns the filename and its path. Below, this return full path and filename is assigned to the attribute **``fullfilename``** of the model."
   ]
  },
  {
   "cell_type": "code",
   "execution_count": 13,
   "metadata": {
    "scrolled": true
   },
   "outputs": [
    {
     "name": "stderr",
     "output_type": "stream",
     "text": [
      "/envs/py3-cerebmodels/lib/python3.5/site-packages/pynwb/file.py:619: UserWarning: Date is missing timezone information. Updating to local timezone.\n",
      "  warn(\"Date is missing timezone information. Updating to local timezone.\")\n"
     ]
    }
   ],
   "source": [
    "desired_model.fullfilename = exc.save_response()"
   ]
  },
  {
   "cell_type": "markdown",
   "metadata": {},
   "source": [
    "## 4. Visualizing the response\n",
    "### 4.1. List model regions of the chosen model\n",
    "Before one calls the visualization function the user must define the the region of interest (roi) from which the response will be visualized."
   ]
  },
  {
   "cell_type": "code",
   "execution_count": 14,
   "metadata": {},
   "outputs": [
    {
     "data": {
      "text/plain": [
       "['soma v']"
      ]
     },
     "execution_count": 14,
     "metadata": {},
     "output_type": "execute_result"
    }
   ],
   "source": [
    "exc.list_modelregions( chosenmodel = desired_model )"
   ]
  },
  {
   "cell_type": "markdown",
   "metadata": {},
   "source": [
    "### 4.2. Visualize all events\n",
    "The method ``visualize_all`` plots all the events in respective sub-plot. In our particular case with not stimulation the simulation has only one event therefore only one sub-plot is seen below."
   ]
  },
  {
   "cell_type": "code",
   "execution_count": 15,
   "metadata": {
    "scrolled": true
   },
   "outputs": [
    {
     "data": {
      "image/png": "[encoded data removed]",
      "text/plain": [
       "<Figure size 432x288 with 1 Axes>"
      ]
     },
     "metadata": {
      "needs_background": "light"
     },
     "output_type": "display_data"
    }
   ],
   "source": [
    "exc.visualize_all(chosenmodel = desired_model, roi=\"soma v\")"
   ]
  },
  {
   "cell_type": "markdown",
   "metadata": {},
   "source": [
    "### 4.3. Visualize all events in one plot"
   ]
  },
  {
   "cell_type": "code",
   "execution_count": 16,
   "metadata": {},
   "outputs": [
    {
     "data": {
      "image/png": "[encoded data removed]",
      "text/plain": [
       "<Figure size 432x288 with 1 Axes>"
      ]
     },
     "metadata": {
      "needs_background": "light"
     },
     "output_type": "display_data"
    }
   ],
   "source": [
    "exc.visualize_aio(chosenmodel = desired_model, roi=\"soma v\")"
   ]
  },
  {
   "cell_type": "code",
   "execution_count": null,
   "metadata": {},
   "outputs": [],
   "source": []
  }
 ],
 "metadata": {
  "kernelspec": {
   "display_name": "Python 3",
   "language": "python",
   "name": "python3"
  },
  "language_info": {
   "codemirror_mode": {
    "name": "ipython",
    "version": 3
   },
   "file_extension": ".py",
   "mimetype": "text/x-python",
   "name": "python",
   "nbconvert_exporter": "python",
   "pygments_lexer": "ipython3",
   "version": "3.5.2"
  }
 },
 "nbformat": 4,
 "nbformat_minor": 2
}
