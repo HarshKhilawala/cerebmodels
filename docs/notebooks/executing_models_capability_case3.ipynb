{
 "cells": [
  {
   "cell_type": "markdown",
   "metadata": {},
   "source": [
    "**To run the models in cerebmodels the user must be in the root of `~/cerebmodels/`**\n",
    "\n",
    "Since this notebook is in `~/cerebmodels/docs/notebooks/` the user must move up two directories"
   ]
  },
  {
   "cell_type": "code",
   "execution_count": 1,
   "metadata": {},
   "outputs": [
    {
     "name": "stdout",
     "output_type": "stream",
     "text": [
      "/home/main-dev/cerebmodels/docs\n"
     ]
    }
   ],
   "source": [
    "cd .."
   ]
  },
  {
   "cell_type": "code",
   "execution_count": 2,
   "metadata": {},
   "outputs": [
    {
     "name": "stdout",
     "output_type": "stream",
     "text": [
      "/home/main-dev/cerebmodels\n"
     ]
    }
   ],
   "source": [
    "cd .."
   ]
  },
  {
   "cell_type": "markdown",
   "metadata": {},
   "source": [
    "# Model Execution - Case3: capability-mode"
   ]
  },
  {
   "cell_type": "markdown",
   "metadata": {},
   "source": [
    "## 1. Set-up\n",
    "\n",
    "### Import `ExecutiveControl` of cerebmodels"
   ]
  },
  {
   "cell_type": "code",
   "execution_count": 3,
   "metadata": {},
   "outputs": [],
   "source": [
    "from executive import ExecutiveControl as ec"
   ]
  },
  {
   "cell_type": "markdown",
   "metadata": {},
   "source": [
    "## 2. Search for models and pick a desired model\n",
    "\n",
    "### 2.1. See available model scales"
   ]
  },
  {
   "cell_type": "code",
   "execution_count": 4,
   "metadata": {},
   "outputs": [
    {
     "data": {
      "text/plain": [
       "['subcell', 'synapses', 'cells', 'microcircuits', 'layers']"
      ]
     },
     "execution_count": 4,
     "metadata": {},
     "output_type": "execute_result"
    }
   ],
   "source": [
    "ec.list_modelscales()"
   ]
  },
  {
   "cell_type": "markdown",
   "metadata": {},
   "source": [
    "### 2.2. See available models for a particular scale\n",
    "Below shows the available models at the level of cellular modelling scale."
   ]
  },
  {
   "cell_type": "code",
   "execution_count": 5,
   "metadata": {},
   "outputs": [
    {
     "data": {
      "text/plain": [
       "['PC2010Genet',\n",
       " 'GoC2007Solinas',\n",
       " 'GrC1994Gabbiani',\n",
       " 'PC2009Akemann',\n",
       " 'PC2013Marasco',\n",
       " 'PC2006Akemann',\n",
       " 'GoC2010Botta',\n",
       " 'PC2001Miyasho',\n",
       " 'PC2003Khaliq',\n",
       " 'GoC2011Souza',\n",
       " 'GrC2016Dover',\n",
       " 'PC2018Zang',\n",
       " 'PC1997aHausser',\n",
       " 'PC2015Masoli',\n",
       " 'PC2011Brown',\n",
       " 'PC2015aForrest',\n",
       " 'GrC2011Souza',\n",
       " 'PC2015bForrest',\n",
       " 'GrC2001DAngelo',\n",
       " 'PC1997bHausser',\n",
       " 'DCN2011Luthman',\n",
       " 'GrC2009Diwakar']"
      ]
     },
     "execution_count": 5,
     "metadata": {},
     "output_type": "execute_result"
    }
   ],
   "source": [
    "ec.list_models( modelscale = \"cells\" )"
   ]
  },
  {
   "cell_type": "markdown",
   "metadata": {},
   "source": [
    "### 2.3. Pick a desired model\n",
    "It is essential to instantiate `ExecutiveControl` to launch the model."
   ]
  },
  {
   "cell_type": "code",
   "execution_count": 6,
   "metadata": {},
   "outputs": [],
   "source": [
    "exc = ec()"
   ]
  },
  {
   "cell_type": "code",
   "execution_count": 7,
   "metadata": {},
   "outputs": [],
   "source": [
    "%%capture\n",
    "desired_model = ec.choose_model( modelscale = \"cells\", modelname = \"PC2003Khaliq\")"
   ]
  },
  {
   "cell_type": "markdown",
   "metadata": {},
   "source": [
    "## 3. Launching (executing) the desired model\n",
    "### 3.1. Setting the parameters\n",
    "For our case of launching the model with ``CerbUnit``'s capability, one is required to define the run-time parameters and depending on what one intend to do with the simulation, with or without the stimulation parameters."
   ]
  },
  {
   "cell_type": "code",
   "execution_count": 8,
   "metadata": {},
   "outputs": [],
   "source": [
    "runtimeparam = { \"dt\": 0.025, \"celsius\": 37, \"tstop\": 500, \"v_init\": -65 }"
   ]
  },
  {
   "cell_type": "markdown",
   "metadata": {},
   "source": [
    "For this particular example let us consider the case where the capability is with respect to electrophysiological measurement, in particular the resting membrane voltage (from soma). Since the first few iterations of a model might require it to stabilize let us consider injecting a dummy (zero amplitude) current clamp injection. This results in a second epoch and based on eFEL the resting membrane voltage is extracted from the moment prior to the stimulus (0 amplitude)."
   ]
  },
  {
   "cell_type": "code",
   "execution_count": 9,
   "metadata": {},
   "outputs": [],
   "source": [
    "stimparam = { \"type\": [\"current\", \"IClamp\"],\n",
    "              \"stimlist\": [ {\"amp\": 0.0, \"dur\": 300.0, \"delay\": 200.0} ],\n",
    "              \"tstop\": runtimeparam[\"tstop\"] }"
   ]
  },
  {
   "cell_type": "markdown",
   "metadata": {},
   "source": [
    "In addition, another required parameter is where the user would like to stimulate. For instance if the interested site of injecting the current is the soma of the cell"
   ]
  },
  {
   "cell_type": "code",
   "execution_count": 10,
   "metadata": {},
   "outputs": [],
   "source": [
    "stim_here = desired_model.cell.soma"
   ]
  },
  {
   "cell_type": "markdown",
   "metadata": {},
   "source": [
    "**NOTE**: The name \"soma\" here is not ad-hoc but dependent on how the soma is named in the model template. See **4.1** (below). Here, soma is named as it is but it could easily have been \"Soma\", \"somas\", etc ..."
   ]
  },
  {
   "cell_type": "markdown",
   "metadata": {},
   "source": [
    "### 3.2. Importing the desired capability\n",
    "For executing the model for the capability ``produce_soma_restingVm`` which is an electrophysiological measurement, the user must import ``ProducesEphysMeasurement``."
   ]
  },
  {
   "cell_type": "code",
   "execution_count": 11,
   "metadata": {},
   "outputs": [],
   "source": [
    "from cerebunit.capabilities.cells.measurements import ProducesEphysMeasurement"
   ]
  },
  {
   "cell_type": "markdown",
   "metadata": {},
   "source": [
    "### 3.3. Executing the model"
   ]
  },
  {
   "cell_type": "code",
   "execution_count": 13,
   "metadata": {},
   "outputs": [
    {
     "name": "stdout",
     "output_type": "stream",
     "text": [
      "Sim produce_soma v_restingVm starting ...\n",
      "Simulation produce_voltage_response starting ...\n",
      "--- 0.156949 seconds ---\n",
      "File saving ...\n"
     ]
    },
    {
     "name": "stderr",
     "output_type": "stream",
     "text": [
      "/envs/py3-cerebmodels/lib/python3.5/site-packages/pynwb/file.py:619: UserWarning: Date is missing timezone information. Updating to local timezone.\n",
      "  warn(\"Date is missing timezone information. Updating to local timezone.\")\n"
     ]
    },
    {
     "name": "stdout",
     "output_type": "stream",
     "text": [
      "File saved.\n",
      "Simulation produce_voltage_response Done.\n",
      "--- 0.27159400000000034 seconds ---\n",
      "Simulation produce_soma v_restingVm Done.\n",
      "--- 5.397078 seconds ---\n"
     ]
    }
   ],
   "source": [
    "desired_model = exc.launch_model( parameters = runtimeparam, stimparameters = stimparam, stimloc = stim_here,\n",
    "                                  onmodel = desired_model, mode = \"capability\",\n",
    "                                  capabilities = {\"model\": \"produce_soma_restingVm\",\n",
    "                                                  \"vtest\": ProducesEphysMeasurement} )"
   ]
  },
  {
   "cell_type": "markdown",
   "metadata": {},
   "source": [
    "When executing the model in capability mode the model response(s) get saved. Therefore, in this mode there is not need to invoke ``ec.save_response()``."
   ]
  },
  {
   "cell_type": "markdown",
   "metadata": {},
   "source": [
    "## 4. Visualizing the response\n",
    "### 4.1. List model regions of the chosen model\n",
    "Before one calls the visualization function the user must define the the region of interest (roi) from which the response will be visualized."
   ]
  },
  {
   "cell_type": "code",
   "execution_count": 14,
   "metadata": {},
   "outputs": [
    {
     "data": {
      "text/plain": [
       "['soma v']"
      ]
     },
     "execution_count": 14,
     "metadata": {},
     "output_type": "execute_result"
    }
   ],
   "source": [
    "exc.list_modelregions( chosenmodel = desired_model )"
   ]
  },
  {
   "cell_type": "markdown",
   "metadata": {},
   "source": [
    "### 4.2. Visualize all events\n",
    "The method ``visualize_all`` plots all the events in respective sub-plot. In our particular case with not stimulation the simulation has only one event therefore only one sub-plot is seen below."
   ]
  },
  {
   "cell_type": "code",
   "execution_count": 15,
   "metadata": {
    "scrolled": true
   },
   "outputs": [
    {
     "data": {
      "image/png": "[encoded data removed]",
      "text/plain": [
       "<Figure size 432x288 with 3 Axes>"
      ]
     },
     "metadata": {
      "needs_background": "light"
     },
     "output_type": "display_data"
    }
   ],
   "source": [
    "exc.visualize_all(chosenmodel = desired_model, roi=\"soma v\")"
   ]
  },
  {
   "cell_type": "markdown",
   "metadata": {},
   "source": [
    "### 4.3. Visualize all events in one plot"
   ]
  },
  {
   "cell_type": "code",
   "execution_count": 16,
   "metadata": {},
   "outputs": [
    {
     "data": {
      "image/png": "[encoded data removed]",
      "text/plain": [
       "<Figure size 432x288 with 2 Axes>"
      ]
     },
     "metadata": {
      "needs_background": "light"
     },
     "output_type": "display_data"
    }
   ],
   "source": [
    "ec.visualize_aio(chosenmodel = desired_model, roi=\"soma v\")"
   ]
  },
  {
   "cell_type": "code",
   "execution_count": null,
   "metadata": {},
   "outputs": [],
   "source": []
  }
 ],
 "metadata": {
  "kernelspec": {
   "display_name": "Python 3",
   "language": "python",
   "name": "python3"
  },
  "language_info": {
   "codemirror_mode": {
    "name": "ipython",
    "version": 3
   },
   "file_extension": ".py",
   "mimetype": "text/x-python",
   "name": "python",
   "nbconvert_exporter": "python",
   "pygments_lexer": "ipython3",
   "version": "3.5.2"
  }
 },
 "nbformat": 4,
 "nbformat_minor": 2
}
